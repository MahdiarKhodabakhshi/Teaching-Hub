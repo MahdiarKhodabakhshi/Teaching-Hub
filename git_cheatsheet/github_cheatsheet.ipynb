{
 "cells": [
  {
   "cell_type": "markdown",
   "metadata": {},
   "source": [
    "In git we have three stages:\n",
    "1. Working Files: You make changed that are not tracked.\n",
    "2. Staging: files get to the place where they are waiting to get commit.\n",
    "3. Commit: files get added to the history book."
   ]
  },
  {
   "cell_type": "markdown",
   "metadata": {},
   "source": [
    "To get access to the files in a gihub repository, you clone that repository into your local environement:"
   ]
  },
  {
   "cell_type": "code",
   "execution_count": null,
   "metadata": {
    "vscode": {
     "languageId": "shellscript"
    }
   },
   "outputs": [],
   "source": [
    "git clone <HTTP URL of the repo >"
   ]
  },
  {
   "cell_type": "markdown",
   "metadata": {},
   "source": [
    "To start tacking your files using git, you first initialize git in your target folder:"
   ]
  },
  {
   "cell_type": "code",
   "execution_count": null,
   "metadata": {
    "vscode": {
     "languageId": "shellscript"
    }
   },
   "outputs": [],
   "source": [
    "git init\n",
    "git status ## for checking the status of your files"
   ]
  },
  {
   "cell_type": "markdown",
   "metadata": {},
   "source": [
    "For adding your files to tracking pool(Staging pool):"
   ]
  },
  {
   "cell_type": "code",
   "execution_count": null,
   "metadata": {
    "vscode": {
     "languageId": "shellscript"
    }
   },
   "outputs": [],
   "source": [
    "git add <file_name >\n",
    "git add . ## This would add all the untracked files"
   ]
  },
  {
   "cell_type": "markdown",
   "metadata": {},
   "source": [
    "There are two ways to remove files from staging phase:"
   ]
  },
  {
   "cell_type": "code",
   "execution_count": null,
   "metadata": {
    "vscode": {
     "languageId": "shellscript"
    }
   },
   "outputs": [],
   "source": [
    "git add .\n",
    "# This adds all the files to the staging area\n",
    "\n",
    "git reset <file>\n",
    "# Removes the specified file(s) from the staging area but keeps the changes in the working directory.\n",
    "\n",
    "git reset --soft <commit-hash>\n",
    "# Keep Changes staged, Only moves HEAD to the specified commit.\n",
    "\n",
    "git reset <commit-hash(you can get it from git log)>\n",
    "# Unstages changes (Moves them to working direcotory) and moves HEAD to <commit-hash>\n",
    "\n",
    "git reset --hard <commit-hash>\n",
    "# Deletes all changes after the commit(both staged and unstaged)\n",
    "# Moves HEAD to <commit-hash>\n",
    "\n",
    "git restore --staged <file>\n",
    "# Also removes the specified file(s) from the staging area but does not affect the working directory."
   ]
  },
  {
   "cell_type": "markdown",
   "metadata": {},
   "source": [
    "For commiting your changes you would commit your files:"
   ]
  },
  {
   "cell_type": "code",
   "execution_count": null,
   "metadata": {
    "vscode": {
     "languageId": "shellscript"
    }
   },
   "outputs": [],
   "source": [
    "git commit -m \"your commit message\"\n",
    "git commit -a -m \"your commit message\" ## This command will skip staging step and will directly commit changes"
   ]
  },
  {
   "cell_type": "markdown",
   "metadata": {},
   "source": [
    "If you want to get to the previous version of a file use the following command:"
   ]
  },
  {
   "cell_type": "code",
   "execution_count": null,
   "metadata": {
    "vscode": {
     "languageId": "shellscript"
    }
   },
   "outputs": [],
   "source": [
    "git resotre <file_name >"
   ]
  },
  {
   "cell_type": "markdown",
   "metadata": {},
   "source": [
    "To see all your previous commits:"
   ]
  },
  {
   "cell_type": "code",
   "execution_count": null,
   "metadata": {
    "vscode": {
     "languageId": "shellscript"
    }
   },
   "outputs": [],
   "source": [
    "git log\n",
    "git log --oneline # This shows the each command in one line"
   ]
  },
  {
   "cell_type": "markdown",
   "metadata": {},
   "source": [
    "Editing your previous commits:"
   ]
  },
  {
   "cell_type": "code",
   "execution_count": null,
   "metadata": {
    "vscode": {
     "languageId": "shellscript"
    }
   },
   "outputs": [],
   "source": [
    "git commit -m \"the commit message\" --amend\n",
    "# Modify the most recent commit\n",
    "# Examples:\n",
    "git commit --amend -m \"New, corrected commit message\"\n",
    "# This replaces the previous message\n",
    "git add missing_file.txt\n",
    "git commit --amend\n",
    "# This adds the missing file to the last commit instead of creating a new one.\n",
    "\n",
    "#** Do not use --amend on pushed commits."
   ]
  },
  {
   "cell_type": "markdown",
   "metadata": {},
   "source": [
    "If you wanted to see what actually changed in different commits:"
   ]
  },
  {
   "cell_type": "code",
   "execution_count": null,
   "metadata": {
    "vscode": {
     "languageId": "shellscript"
    }
   },
   "outputs": [],
   "source": [
    "git log -p\n",
    "# This command has advanced capabilities, you can search for a specific text, or look for changes that happen before or after a certain date.\n",
    "# To see you can type git help log"
   ]
  },
  {
   "cell_type": "markdown",
   "metadata": {},
   "source": [
    " You can also modify what appear in the history book and also the order in which all of these commits appear, you can do that using Rebasing:\n",
    "* TO-DO GO READ ABOUT IT\n",
    "\n",
    "Making and working with new branches:"
   ]
  },
  {
   "cell_type": "code",
   "execution_count": null,
   "metadata": {
    "vscode": {
     "languageId": "shellscript"
    }
   },
   "outputs": [],
   "source": [
    "git branch <new_branch_name >\n",
    "#This creates a new branch\n",
    "\n",
    "git branch\n",
    "# Shows the branches\n",
    "\n",
    "git switch <target_branch_name >\n",
    "# To switch to another branch\n",
    "\n",
    "git switch -c <branch_name >\n",
    "# shortcut: creates the branch and switch to it\n",
    "\n",
    "# When you want to merge your changes from another branch to main, you first switch to main and then merge it:\n",
    "git merge -m \"merging message\" <branch_name_that_you_made_the_chanegs >\n",
    "# When you have merged all your changes from the additional branch you no longer need this branch so for deleting it you can use:\n",
    "git branch -d <branch_name >"
   ]
  },
  {
   "cell_type": "markdown",
   "metadata": {},
   "source": [
    "So what happens if you wanna merge your additional branch, but main branch has changes since you have created this branch:\n",
    "\n",
    "**Option 1: Rebase**\n",
    "\n",
    "Use if you are working on your own branch and want a cleaner commit history."
   ]
  },
  {
   "cell_type": "code",
   "execution_count": null,
   "metadata": {
    "vscode": {
     "languageId": "shellscript"
    }
   },
   "outputs": [],
   "source": [
    "git switch feature-branch\n",
    "\n",
    "git rebase main # Rebase onto the latest main\n",
    "# It is possible to get conflict(meaning you have changed the same things that has been changed in the new version of main, you have to handle this manually in the changed file.\n",
    "git add <fixed_files>\n",
    "git rebase --continue\n",
    "\n",
    "#If you run into too many conflicts or make a mistake while resolving them, you might want to cancel the rebase and go back to the state before you started. use:\n",
    "git rebase --abort\n",
    "# Once done switch back to main and merge:\n",
    "git switch main\n",
    "git merge feature-branch\n",
    "git push origin main"
   ]
  },
  {
   "cell_type": "markdown",
   "metadata": {},
   "source": [
    "Pros:\n",
    "* Cleaner, linear commit history.\n",
    "* Looks like you started your work after the latest main changes.\n",
    "\n",
    "Cons:\n",
    "* Can be complex if there are many conflicts.\n",
    "* Rewrites history, which can cause issues if the branch is already pushed."
   ]
  },
  {
   "cell_type": "markdown",
   "metadata": {},
   "source": [
    "**Option 2: Merge**\n",
    "\n",
    "Use when you’re working with a team and want to preserver history."
   ]
  },
  {
   "cell_type": "code",
   "execution_count": null,
   "metadata": {
    "vscode": {
     "languageId": "shellscript"
    }
   },
   "outputs": [],
   "source": [
    "git switch main\n",
    "git pull origin main # Get the latest version of main branch\n",
    "\n",
    "git switch feature-branch\n",
    "git merge main\n",
    "# You might still face conflicts that you have to resolve, So if you faced any conflict:\n",
    "git add <fixed-files>\n",
    "git commit -m \"Merge main into feature-branch\"\n",
    "\n",
    "git switch main\n",
    "git merge feature-branch\n",
    "git push origin main"
   ]
  },
  {
   "cell_type": "markdown",
   "metadata": {},
   "source": [
    "Pros:\n",
    "- Preserves history.\n",
    "- Safe when working with a team\n",
    "\n",
    "Cons:\n",
    "- Creates an extra merge commit, making history a bit messy."
   ]
  },
  {
   "cell_type": "code",
   "execution_count": null,
   "metadata": {
    "vscode": {
     "languageId": "shellscript"
    }
   },
   "outputs": [],
   "source": [
    "git push --all ## This command will push all your branches to github"
   ]
  }
 ],
 "metadata": {
  "language_info": {
   "name": "python"
  }
 },
 "nbformat": 4,
 "nbformat_minor": 2
}
