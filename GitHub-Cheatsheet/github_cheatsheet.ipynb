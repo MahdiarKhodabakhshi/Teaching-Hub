{
 "cells": [
  {
   "cell_type": "markdown",
   "metadata": {},
   "source": [
    "In git we have three stages:\n",
    "1. Working Files: You make changed that are not tracked.\n",
    "2. Staging: files get to the place where they are waiting to get commit.\n",
    "3. Commit: files get added to the history book."
   ]
  },
  {
   "cell_type": "markdown",
   "metadata": {},
   "source": [
    "![Alt text](figure\\workflow_diagram.PNG)"
   ]
  },
  {
   "cell_type": "markdown",
   "metadata": {},
   "source": [
    "### Branching\n",
    "\n",
    "let's say someone wants to make an experimental change but not affect the 'main line'. Then they might 'branch' the code at point C:"
   ]
  },
  {
   "cell_type": "markdown",
   "metadata": {},
   "source": [
    "![Alt text](figure\\branching.PNG)"
   ]
  },
  {
   "cell_type": "code",
   "execution_count": null,
   "metadata": {
    "vscode": {
     "languageId": "shellscript"
    }
   },
   "outputs": [],
   "source": [
    "git branch <branch_name> # This command creates a new branch.\n",
    "git branch #shows the branches.\n",
    "\n",
    "git log --decorate --graph --oneline  # Graphical view of this branch.\n",
    "git log --decorate --graph --oneline --all # Graphical view of all branches.\n",
    "\n",
    "git checkout <branch_name> # This command switches to the specified branch.\n",
    "git checkout -b <branch_name> # This command creates a new branch and switches to it.\n",
    "\n",
    "git merge <branch_name> # This command merges the specified branch into the current branch.\n",
    "git merge <branch_name> --no-ff # This command merges the specified branch into the current branch and creates a new commit.\n",
    "\n",
    "git rebase <branch_name> # This command rewrites the history of the current branch by rebasing it onto the specified branch."
   ]
  },
  {
   "cell_type": "markdown",
   "metadata": {},
   "source": [
    "Merging is the opposite of branching. When we merge, we take two separate points in our development tree and fuse them together."
   ]
  },
  {
   "cell_type": "markdown",
   "metadata": {},
   "source": [
    "![Alt text](figure\\merging.PNG)"
   ]
  },
  {
   "cell_type": "markdown",
   "metadata": {},
   "source": [
    "When you run a merge, git looks at the branch you are on (here it is master), and the branch you are merging in, and works out what the first common ancestor is. In this case, it’s point C, as that’s where you branched experimental.\n",
    "\n",
    "It then takes the changes on the branch you are merging in from that point and applies them to the branch you are on in one go."
   ]
  },
  {
   "cell_type": "markdown",
   "metadata": {},
   "source": [
    "To get access to the files in a gihub repository, you clone that repository into your local environement:"
   ]
  },
  {
   "cell_type": "code",
   "execution_count": null,
   "metadata": {
    "vscode": {
     "languageId": "shellscript"
    }
   },
   "outputs": [],
   "source": [
    "git clone <HTTP URL of the repo >"
   ]
  },
  {
   "cell_type": "markdown",
   "metadata": {},
   "source": [
    "This initialises a database in the folder '.git' locally. Your repository is entirely stored within this .git\n",
    " folder. There are no other files elsewhere on your filesystem you need to be concerned about.\n",
    "\n",
    " This doesn't mean that .git is a copy of the root folder, .git is a database that contain the chnages you make in your repository."
   ]
  },
  {
   "cell_type": "code",
   "execution_count": null,
   "metadata": {
    "vscode": {
     "languageId": "shellscript"
    }
   },
   "outputs": [],
   "source": [
    "rm -rf <folder name>\n",
    "mkdir <folder name>\n",
    "cd <folder name>\n",
    "\n",
    "git init\n",
    "git status ## for checking the status of your files"
   ]
  },
  {
   "cell_type": "markdown",
   "metadata": {},
   "source": [
    "For adding your files to tracking pool(Staging pool):"
   ]
  },
  {
   "cell_type": "code",
   "execution_count": null,
   "metadata": {
    "vscode": {
     "languageId": "shellscript"
    }
   },
   "outputs": [],
   "source": [
    "git add <file_name >\n",
    "git add . ## This would add all the untracked files"
   ]
  },
  {
   "cell_type": "markdown",
   "metadata": {},
   "source": [
    "There are two ways to remove files from staging phase:"
   ]
  },
  {
   "cell_type": "code",
   "execution_count": null,
   "metadata": {
    "vscode": {
     "languageId": "shellscript"
    }
   },
   "outputs": [],
   "source": [
    "git add .\n",
    "# This adds all the files to the staging area\n",
    "\n",
    "git reset <file>\n",
    "# Removes the specified file(s) from the staging area but keeps the changes in the working directory.\n",
    "\n",
    "git reset --mixed <commit-hash>\n",
    "# Moves HEAD and the current branch pointer to <commit> and resets the staging area to match the commit.\n",
    "# This is the default option. You can specify which commit you want to reset to by using the commit-hash.\n",
    "\n",
    "git reset --soft <commit-hash>\n",
    "# Keep Changes staged, Only moves HEAD to the specified commit.\n",
    "\n",
    "git reset <commit-hash(you can get it from git log)>\n",
    "# Unstages changes (Moves them to working direcotory) and moves HEAD to <commit-hash>\n",
    "\n",
    "git reset --hard <commit-hash>\n",
    "# Deletes all changes after the commit(both staged and unstaged)\n",
    "# Moves HEAD to <commit-hash>\n",
    "\n",
    "git restore --staged <file>\n",
    "# Also removes the specified file(s) from the staging area but does not affect the working directory."
   ]
  },
  {
   "cell_type": "markdown",
   "metadata": {},
   "source": [
    "For commiting your changes you would commit your files:"
   ]
  },
  {
   "cell_type": "code",
   "execution_count": null,
   "metadata": {
    "vscode": {
     "languageId": "shellscript"
    }
   },
   "outputs": [],
   "source": [
    "git commit -m \"your commit message\"\n",
    "git commit -a -m \"your commit message\" ## This command will skip staging step and will directly commit changes\n",
    "# You can short this command to\n",
    "git commit -am \"your commit message\""
   ]
  },
  {
   "cell_type": "markdown",
   "metadata": {},
   "source": [
    "If you want to get to the previous version of a file use the following command:"
   ]
  },
  {
   "cell_type": "code",
   "execution_count": null,
   "metadata": {
    "vscode": {
     "languageId": "shellscript"
    }
   },
   "outputs": [],
   "source": [
    "git resotre <file_name >"
   ]
  },
  {
   "cell_type": "markdown",
   "metadata": {},
   "source": [
    "To see all your previous commits:"
   ]
  },
  {
   "cell_type": "code",
   "execution_count": null,
   "metadata": {
    "vscode": {
     "languageId": "shellscript"
    }
   },
   "outputs": [],
   "source": [
    "git log\n",
    "git log --oneline # This shows the each command in one line\n",
    "git log --oneline --graph # This shows the each command in one line and the graph of the commits"
   ]
  },
  {
   "cell_type": "markdown",
   "metadata": {},
   "source": [
    "Editing your previous commits:"
   ]
  },
  {
   "cell_type": "code",
   "execution_count": null,
   "metadata": {
    "vscode": {
     "languageId": "shellscript"
    }
   },
   "outputs": [],
   "source": [
    "git commit -m \"the commit message\" --amend\n",
    "# Modify the most recent commit\n",
    "# Examples:\n",
    "git commit --amend -m \"New, corrected commit message\"\n",
    "# This replaces the previous message\n",
    "git add missing_file.txt\n",
    "git commit --amend\n",
    "# This adds the missing file to the last commit instead of creating a new one.\n",
    "\n",
    "#** Do not use --amend on pushed commits."
   ]
  },
  {
   "cell_type": "markdown",
   "metadata": {},
   "source": [
    "If you wanted to see what actually changed in different commits:"
   ]
  },
  {
   "cell_type": "code",
   "execution_count": null,
   "metadata": {
    "vscode": {
     "languageId": "shellscript"
    }
   },
   "outputs": [],
   "source": [
    "git log -p\n",
    "# This command has advanced capabilities, you can search for a specific text, or look for changes that happen before or after a certain date.\n",
    "# To see you can type git help log"
   ]
  },
  {
   "cell_type": "markdown",
   "metadata": {},
   "source": [
    " You can also modify what appear in the history book and also the order in which all of these commits appear, you can do that using Rebasing:\n",
    "* TO-DO GO READ ABOUT IT\n",
    "\n",
    "Making and working with new branches:"
   ]
  },
  {
   "cell_type": "code",
   "execution_count": null,
   "metadata": {
    "vscode": {
     "languageId": "shellscript"
    }
   },
   "outputs": [],
   "source": [
    "git branch <new_branch_name >\n",
    "#This creates a new branch\n",
    "\n",
    "git branch\n",
    "# Shows the branches\n",
    "\n",
    "git switch <target_branch_name >\n",
    "# To switch to another branch\n",
    "\n",
    "git switch -c <branch_name >\n",
    "# shortcut: creates the branch and switch to it\n",
    "\n",
    "# When you want to merge your changes from another branch to main, you first switch to main and then merge it:\n",
    "git merge -m \"merging message\" <branch_name_that_you_made_the_chanegs >\n",
    "# When you have merged all your changes from the additional branch you no longer need this branch so for deleting it you can use:\n",
    "git branch -d <branch_name >"
   ]
  },
  {
   "cell_type": "markdown",
   "metadata": {},
   "source": [
    "#### What is `git stash`?\n",
    "\n",
    "Imagine you’re working on some code, but suddenly you need to:\n",
    "- Switch to another branch to fix a bug, or\n",
    "- Pull the latest changes from the remote repository,\n",
    "- But you’re not ready to commit your current work yet.\n",
    "\n",
    "If you try to switch branches or pull changes, git might complain because you have uncommitted changes.\n",
    "\n",
    "**This is where `git stash` comes in!**\n",
    "\n",
    "**What does `git stash` do?**\n",
    "- It takes all your uncommitted changes (both staged and unstaged) and puts them in a special storage area called the “stash.”\n",
    "- Your working directory goes back to a clean state (as if you hadn’t made any changes).\n",
    "- You can now switch branches, pull changes, or do whatever you need.\n",
    "- Later, you can “reapply” those stashed changes back to your working directory.\n",
    "\n",
    "**Typical workflow**\n",
    "1. You’re working and have uncommitted changes.\n",
    "2. You run:\n",
    "   ```\n",
    "   git stash\n",
    "   ```\n",
    "   Now your changes are saved away, and your working directory is clean.\n",
    "3. Do whatever you need (switch branches, pull, etc.).\n",
    "4. When you’re ready to get your work back, run:\n",
    "   ```\n",
    "   git stash apply\n",
    "   ```\n",
    "   Your changes are restored, and you can keep working!\n",
    "\n",
    "**Key points**\n",
    "- `git stash` is temporary storage for your changes.\n",
    "- It does **not** commit your changes.\n",
    "- You can stash multiple times; git keeps a list of stashes.\n",
    "- You can view your stashes with `git stash list`.\n",
    "- You can remove a stash after applying it with `git stash drop` or use `git stash pop` to apply and remove in one step.\n",
    "\n",
    "**In short:**  \n",
    "`git stash` lets you save your unfinished work, clean your workspace, and come back to your work later—without losing anything."
   ]
  },
  {
   "cell_type": "markdown",
   "metadata": {},
   "source": [
    "#### What is `git reflog`?\n",
    "\n",
    "- `git reflog` is a command that shows you a **log of where your HEAD and branch references have been**—including moves that aren’t shown in the normal commit history.\n",
    "- It’s like a “history of your history,” tracking every time you change branches, make commits, reset, rebase, merge, or even do things like `git commit --amend` or `git rebase`.\n",
    "- This is **extremely useful for recovering lost commits** or undoing mistakes, because it shows you all recent positions of HEAD—even if you’ve “lost” a branch or commit.\n",
    "\n",
    "---\n",
    "\n",
    "##### Why is it useful?\n",
    "\n",
    "- If you accidentally delete a branch, reset to an old commit, or do a hard reset, you can use `git reflog` to find the commit hash you need to recover your work.\n",
    "- It’s a safety net for your git history.\n",
    "\n",
    "---\n",
    "Example:"
   ]
  },
  {
   "cell_type": "code",
   "execution_count": null,
   "metadata": {
    "vscode": {
     "languageId": "shellscript"
    }
   },
   "outputs": [],
   "source": [
    "echo \"first\" > file.txt\n",
    "git add file.txt\n",
    "git commit -m \"First commit\"\n",
    "\n",
    "echo \"second\" >> file.txt\n",
    "git add file.txt\n",
    "git commit -m \"Second commit\"\n",
    "\n",
    "# You accidentally reset to the first commit\n",
    "git reset --hard HEAD~1 # Now your second commit is gone from the branch history!\n",
    "# If you run git log, you won't see the second commit anymore\n",
    "# But if you run:\n",
    "git reflog\n",
    "# You'll see the following:\n",
    "a1b2c3d (HEAD -> main) HEAD@{0}: reset: moving to HEAD~1\n",
    "d4e5f6g HEAD@{1}: commit: Second commit\n",
    "h7i8j9k HEAD@{2}: commit: First commit\n",
    "\n",
    "# Here, d4e5f6g is the commit hash for your “Second commit” that you thought was lost."
   ]
  },
  {
   "cell_type": "markdown",
   "metadata": {},
   "source": [
    "You can Recover it!"
   ]
  },
  {
   "cell_type": "code",
   "execution_count": null,
   "metadata": {
    "vscode": {
     "languageId": "shellscript"
    }
   },
   "outputs": [],
   "source": [
    "git checkout d4e5f6g\n",
    "# or\n",
    "git cherry-pick d4e5f6g\n",
    "# or\n",
    "git reset --hard d4e5f6g"
   ]
  },
  {
   "cell_type": "markdown",
   "metadata": {},
   "source": [
    "#### What is `git cherry-pick`?\n",
    "\n",
    "- `git cherry-pick` is a command that lets you **apply a specific commit from one branch onto another branch**.\n",
    "- Instead of merging or rebasing an entire branch, you can “pick” just one (or a few) specific commits and add them to your current branch.\n",
    "- This is useful when you want to copy bug fixes, features, or changes from one branch to another without merging everything.\n",
    "\n",
    "---\n",
    "\n",
    "##### Why is it useful?\n",
    "\n",
    "- You can selectively move changes between branches.\n",
    "- Great for backporting bug fixes (e.g., from `main` to a release branch).\n",
    "- Useful when you want only a specific commit, not the whole branch history.\n",
    "\n",
    "---\n",
    "\n",
    "##### Example\n",
    "\n",
    "Suppose you have two branches: `main` and `feature`.\n",
    "\n",
    "1. **You make a commit on `feature`:**\n",
    "    ```sh\n",
    "    git checkout feature\n",
    "    # ...make some changes...\n",
    "    git commit -m \"Add cool feature\"\n",
    "    ```\n",
    "\n",
    "2. **You want to apply that commit to `main` as well:**\n",
    "    - First, find the commit hash you want to cherry-pick (use `git log`).\n",
    "    - Let’s say the commit hash is `abc1234`.\n",
    "\n",
    "3. **Switch to the branch you want to apply the commit to:**\n",
    "    ```sh\n",
    "    git checkout main\n",
    "    ```\n",
    "\n",
    "4. **Cherry-pick the commit:**\n",
    "    ```sh\n",
    "    git cherry-pick abc1234\n",
    "    ```\n",
    "\n",
    "    - This applies the changes from that commit onto your current branch (`main`).\n",
    "    - If there are conflicts, git will pause and let you resolve them before continuing.\n",
    "\n",
    "---\n",
    "\n",
    "##### In summary\n",
    "\n",
    "- `git cherry-pick <commit-hash>` copies a specific commit from anywhere in your repository and applies it to your current branch.\n",
    "- It’s a precise way to move changes around without merging whole branches.\n",
    "\n",
    "---\n",
    "\n",
    "**Tip:**  \n",
    "You can cherry-pick multiple commits at once by listing their hashes:\n",
    "```sh\n",
    "git cherry-pick abc1234 def5678\n",
    "```\n",
    "```"
   ]
  },
  {
   "cell_type": "markdown",
   "metadata": {},
   "source": [
    "So what happens if you wanna merge your additional branch, but main branch has changes since you have created this branch:\n",
    "\n",
    "**Option 1: Rebase**\n",
    "\n",
    "Use if you are working on your own branch and want a cleaner commit history."
   ]
  },
  {
   "cell_type": "markdown",
   "metadata": {},
   "source": [
    " If we remind ourselves of the situation pre-merge (above)then we can visualise 'picking up' the\n",
    " changes on the feature1 branch and moving them to the HEAD. So from this:"
   ]
  },
  {
   "cell_type": "markdown",
   "metadata": {},
   "source": [
    "![Alt text](figure\\rebase_1.PNG)"
   ]
  },
  {
   "cell_type": "markdown",
   "metadata": {},
   "source": [
    "To This:"
   ]
  },
  {
   "cell_type": "markdown",
   "metadata": {},
   "source": [
    "![Alt text](figure\\rebase_2.PNG)"
   ]
  },
  {
   "cell_type": "markdown",
   "metadata": {},
   "source": [
    " This is what a rebase is: you take a set of changes from a particular point and apply them from a\n",
    " different point - rebase!"
   ]
  },
  {
   "cell_type": "code",
   "execution_count": null,
   "metadata": {
    "vscode": {
     "languageId": "shellscript"
    }
   },
   "outputs": [],
   "source": [
    "git switch feature-branch\n",
    "\n",
    "git rebase main # Rebase onto the latest main\n",
    "# It is possible to get conflict(meaning you have changed the same things that has been changed in the new version of main, you have to handle this manually in the changed file.\n",
    "git add <fixed_files>\n",
    "git rebase --continue\n",
    "\n",
    "#If you run into too many conflicts or make a mistake while resolving them, you might want to cancel the rebase and go back to the state before you started. use:\n",
    "git rebase --abort\n",
    "# Once done switch back to main and merge:\n",
    "git switch main\n",
    "git merge feature-branch\n",
    "git push origin main"
   ]
  },
  {
   "cell_type": "markdown",
   "metadata": {},
   "source": [
    "Pros:\n",
    "* Cleaner, linear commit history.\n",
    "* Looks like you started your work after the latest main changes.\n",
    "\n",
    "Cons:\n",
    "* Can be complex if there are many conflicts.\n",
    "* Rewrites history, which can cause issues if the branch is already pushed."
   ]
  },
  {
   "cell_type": "markdown",
   "metadata": {},
   "source": [
    "**Option 2: Merge**\n",
    "\n",
    "Use when you’re working with a team and want to preserver history."
   ]
  },
  {
   "cell_type": "code",
   "execution_count": null,
   "metadata": {
    "vscode": {
     "languageId": "shellscript"
    }
   },
   "outputs": [],
   "source": [
    "git switch main\n",
    "git pull origin main # Get the latest version of main branch\n",
    "\n",
    "git switch feature-branch\n",
    "git merge main\n",
    "# You might still face conflicts that you have to resolve, So if you faced any conflict:\n",
    "git add <fixed-files>\n",
    "git commit -m \"Merge main into feature-branch\"\n",
    "\n",
    "git switch main\n",
    "git merge feature-branch\n",
    "git push origin main"
   ]
  },
  {
   "cell_type": "markdown",
   "metadata": {},
   "source": [
    "Pros:\n",
    "- Preserves history.\n",
    "- Safe when working with a team\n",
    "\n",
    "Cons:\n",
    "- Creates an extra merge commit, making history a bit messy."
   ]
  },
  {
   "cell_type": "code",
   "execution_count": null,
   "metadata": {
    "vscode": {
     "languageId": "shellscript"
    }
   },
   "outputs": [],
   "source": [
    "git push --all ## This command will push all your branches to github"
   ]
  },
  {
   "cell_type": "markdown",
   "metadata": {},
   "source": [
    "### Remote Repositories Summary\n",
    "\n",
    "#### Working with Remotes\n",
    "\n",
    "To get information about remotes:\n",
    "\n",
    "```bash\n",
    "git remote\n",
    "# Shows the name 'origin' (default name for a remote)\n",
    "\n",
    "git remote -v\n",
    "# Shows detailed information about URLs:\n",
    "# origin    /Users/imiell/gitcourse/git_origin (fetch)\n",
    "# origin    /Users/imiell/gitcourse/git_origin (push)\n",
    "```\n",
    "\n",
    "**Note:** The name 'origin' is the default name for a remote, but it has no special meaning. It could be renamed to 'bitbucket', 'gitlab', etc.\n",
    "\n",
    "#### Git Fetch\n",
    "\n",
    "`git fetch` gets the latest changes from the remote repository and copies them into the local repository. **Crucially, these changes are kept in a separate place.**\n",
    "\n",
    "**Example workflow:**\n",
    "\n",
    "```bash\n",
    "# First, make a change to the origin's repo:\n",
    "cd git_origin\n",
    "echo 'fetchable change' >> file1\n",
    "git commit -am fetchable\n",
    "\n",
    "# Then go to the cloned repository and fetch the changes:\n",
    "cd ../git_cloned\n",
    "git fetch origin master\n",
    "\n",
    "# Check what branches are available:\n",
    "git branch --all\n",
    "# Shows:\n",
    "# * master\n",
    "#   remotes/origin/HEAD -> origin/master\n",
    "#   remotes/origin/master\n",
    "\n",
    "# To apply the remote master's changes to the local one:\n",
    "git merge origin/master\n",
    "```\n",
    "\n",
    "#### Git Pull vs Fetch + Merge\n",
    "\n",
    "**Important:** A fetch followed by a merge is what `git pull` does in one go. A pull fetches the mapped branch and then merges it into the local branch.\n",
    "\n",
    "```bash\n",
    "git pull origin master\n",
    "# Is equivalent to:\n",
    "git fetch origin master\n",
    "git merge origin/master\n",
    "```"
   ]
  },
  {
   "cell_type": "markdown",
   "metadata": {},
   "source": [
    "# Working with Multiple Repositories\n",
    "\n",
    "## Overview\n",
    "This section covers how to work with multiple repositories in a distributed team environment, demonstrating the \"Lieutenants\" model that Git was originally designed for.\n",
    "\n",
    "## Setting Up Multiple Repositories\n",
    "\n",
    "Let's create the same setup as before, but with multiple cloned repositories:\n",
    "\n",
    "```bash\n",
    "mkdir git_origin\n",
    "cd git_origin\n",
    "git init\n",
    "echo 'first commit' > file1\n",
    "git add file1\n",
    "git commit -am file1\n",
    "cd ..\n",
    "\n",
    "git clone git_origin alice_cloned\n",
    "git clone git_origin bob_cloned\n",
    "```\n",
    "\n",
    "Now `alice_cloned` and `bob_cloned` both have `git_origin` as their origin:\n",
    "\n",
    "```bash\n",
    "cd alice_cloned\n",
    "git remote -v\n",
    "# origin    /Users/imiell/gitcourse/git_origin (fetch)\n",
    "# origin    /Users/imiell/gitcourse/git_origin (push)\n",
    "\n",
    "cd ../bob_cloned\n",
    "git remote -v\n",
    "# origin    /Users/imiell/gitcourse/git_origin (fetch)\n",
    "# origin    /Users/imiell/gitcourse/git_origin (push)\n",
    "```\n",
    "\n",
    "## The Distributed Workflow Scenario\n",
    "\n",
    "Now Alice makes a change in her master branch:\n",
    "\n",
    "```bash\n",
    "cd alice_cloned\n",
    "echo alice_change >> file1\n",
    "git commit -am 'alice change'\n",
    "# [master 9077a48] alice change\n",
    "#  1 file changed, 1 insertion(+)\n",
    "```\n",
    "\n",
    "**The Challenge**: How does Bob get Alice's change into his master branch without going through the central origin?\n",
    "\n",
    "This is a common scenario in distributed teams. If you consider that Git was created for managing the Linux kernel codebase, it's easy to imagine:\n",
    "- `git_origin` as Linus Torvalds' repository\n",
    "- `alice_cloned` as a contributor's repository  \n",
    "- `bob_cloned` as a lieutenant's repository\n",
    "\n",
    "## The Solution: Direct Repository-to-Repository Communication\n",
    "\n",
    "The process involves three steps:\n",
    "1. **ADD** Alice's repository as a remote to Bob's\n",
    "2. **FETCH** Alice's updated master branch\n",
    "3. **MERGE** Alice's master branch into Bob's local one\n",
    "\n",
    "Steps 2 and 3 can be collapsed into `git pull`, but keeping them separate is more instructive.\n",
    "\n",
    "### Step 1: ADD Alice's Repository as a Remote\n",
    "\n",
    "First, Bob needs to add Alice's repository as a remote:\n",
    "\n",
    "```bash\n",
    "cd bob_cloned\n",
    "git remote add alice ../alice_cloned\n",
    "git remote -v\n",
    "# alice    ../alice_cloned/ (fetch)\n",
    "# alice    ../alice_cloned/ (push)\n",
    "# origin   /Users/imiell/gitcourse/git_origin (fetch)\n",
    "# origin   /Users/imiell/gitcourse/git_origin (push)\n",
    "```\n",
    "\n",
    "We have now linked Bob's repository to Alice's, giving it the name 'alice'.\n",
    "\n",
    "### Step 2: FETCH Alice's Updated Master Branch\n",
    "\n",
    "```bash\n",
    "git fetch alice master\n",
    "# remote: Counting objects: 3, done.\n",
    "# remote: Total 3 (delta 0), reused 0 (delta 0)\n",
    "# Unpacking objects: 100% (3/3), done.\n",
    "# From ../alice_cloned\n",
    "#  * branch            master     -> FETCH_HEAD\n",
    "#  * [new branch]      master     -> alice/master\n",
    "```\n",
    "\n",
    "Alice's master branch is now fetched to Bob's local repository.\n",
    "\n",
    "```bash\n",
    "git branch -vv -a\n",
    "# * master                fdc7132 [origin/master] file1\n",
    "#   remotes/alice/master  9077a48 alice change\n",
    "#   remotes/origin/HEAD   -> origin/master\n",
    "#   remotes/origin/master fdc7132 file1\n",
    "```\n",
    "\n",
    "### Step 3: MERGE Alice's Master Branch into Bob's Local One\n",
    "\n",
    "```bash\n",
    "git merge alice/master\n",
    "# Updating fdc7132..9077a48\n",
    "# Fast-forward\n",
    "#  1 file changed, 1 insertion(+)\n",
    "\n",
    "cat file1\n",
    "# first commit\n",
    "# alice_change\n",
    "```\n",
    "\n",
    "## Important Note About Remote Branch References\n",
    "\n",
    "You may wonder why we use `alice/master` and not `remotes/alice/master`, as the output of `git branch -vv -a` shows. You can run:\n",
    "\n",
    "```bash\n",
    "git merge remotes/alice/master\n",
    "```\n",
    "\n",
    "This will do the same thing. Git assumes that the branch is a remote (presumably from seeing the '/' in the branch name) and adds the 'remotes/' prefix for you automatically.\n",
    "\n",
    "## The Lieutenants Model\n",
    "\n",
    "This \"Lieutenants\" model is one example of a Git workflow. Although it was the one Git was originally created for, it is still common for developers to use a traditional centralized model around a repository such as GitLab or BitBucket.\n",
    "\n",
    "This is why people make jokes when GitHub is down about the fact that it should not be a problem because Git is a distributed source control tool - you can work directly between repositories without a central server.\n",
    "\n",
    "## Key Concepts Summary\n",
    "\n",
    "1. **Direct Repository Communication**: Repositories can communicate directly without going through a central server\n",
    "2. **Multiple Remotes**: A single repository can have multiple remotes pointing to different repositories\n",
    "3. **Distributed Workflow**: Changes can flow between any repositories, not just through a central hub\n",
    "4. **Flexible Collaboration**: Team members can share changes directly or through intermediaries\n",
    "5. **Git's Distributed Nature**: The system works even when central servers are unavailable\n",
    "\n",
    "## Practical Applications\n",
    "\n",
    "- **Open Source Development**: Contributors can share work directly with maintainers\n",
    "- **Team Collaboration**: Developers can share work-in-progress with specific team members\n",
    "- **Code Review**: Changes can be shared directly for review before going to the main repository\n",
    "- **Backup and Redundancy**: Multiple repositories provide redundancy and backup options"
   ]
  }
 ],
 "metadata": {
  "kernelspec": {
   "display_name": "base",
   "language": "python",
   "name": "python3"
  },
  "language_info": {
   "codemirror_mode": {
    "name": "ipython",
    "version": 3
   },
   "file_extension": ".py",
   "mimetype": "text/x-python",
   "name": "python",
   "nbconvert_exporter": "python",
   "pygments_lexer": "ipython3",
   "version": "3.12.3"
  }
 },
 "nbformat": 4,
 "nbformat_minor": 2
}
